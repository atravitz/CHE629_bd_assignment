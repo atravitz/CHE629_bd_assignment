{
 "cells": [
  {
   "cell_type": "code",
   "execution_count": 4,
   "metadata": {},
   "outputs": [],
   "source": [
    "import matplotlib.pyplot as plt\n",
    "import numpy as np\n",
    "from scipy.stats import sem"
   ]
  },
  {
   "cell_type": "markdown",
   "metadata": {},
   "source": [
    "## Part 1: a free Brownian particle\n",
    "Use Brownian Dynamics (BD) simulations to simulate one dimensional diffusion of a particle with diffusivity $1.0 \\mu m^2/s$ which starts at the origin at time zero. Use random numbers $r_i$ evenly distributed between -1 and 1.\n",
    "\n",
    "(Remember to multiply the random number by the correct pre-factor in computing your results).\n",
    "\n",
    "Use a timestep of $10^{-3} s$ and simulate for 1000 time steps. Repeat the simulation 100 times."
   ]
  },
  {
   "cell_type": "code",
   "execution_count": 5,
   "metadata": {},
   "outputs": [],
   "source": [
    "params = {'dt':1e-3, # sec\n",
    "          'D':1, #um^2/s\n",
    "          'run_steps': 1000,\n",
    "          'n_runs': 1000, # run the simulation 1000 times\n",
    "         }\n",
    "np.random.seed(1)"
   ]
  },
  {
   "cell_type": "code",
   "execution_count": 6,
   "metadata": {},
   "outputs": [],
   "source": [
    "## here is a template you can use for running your simulations,\n",
    "## but feel free to use whatever works best for you\n",
    "def run_free_brownian(params):\n",
    "    x_array = np.zeros((params['n_runs'], params['run_steps']))\n",
    "    zeta =  # [insert your calculated drag coefficient here]\n",
    "    Fb_prefactor =  # [insert your brownian force prefactor here]\n",
    "    for run in range(params['n_runs']): \n",
    "        for t in range(1, params['run_steps']):\n",
    "            Fb = Fb_prefactor * np.random.uniform(-1,1)\n",
    "            x_array[run, t] = x_array[run, t-1] +  # [add your delta x here]\n",
    "    return x_array\n",
    "\n",
    "params['x_coords'] = run_free_brownian(params)"
   ]
  },
  {
   "cell_type": "markdown",
   "metadata": {},
   "source": [
    "#### a) \n",
    "make a graph plotting x(t) vs. time for the first 5 runs"
   ]
  },
  {
   "cell_type": "code",
   "execution_count": null,
   "metadata": {},
   "outputs": [],
   "source": []
  },
  {
   "cell_type": "markdown",
   "metadata": {},
   "source": [
    "#### b) \n",
    "Calculate the mean squared displacement, $\\langle x^2(t)\\rangle$, at each timestep and over all 1000 runs. Use the slope of $\\langle x^2(t)\\rangle$ vs time to estimate the diffusivity and compare it with the diffusivity assumed in the simulations"
   ]
  },
  {
   "cell_type": "code",
   "execution_count": null,
   "metadata": {},
   "outputs": [],
   "source": []
  },
  {
   "cell_type": "markdown",
   "metadata": {},
   "source": [
    "#### c) \n",
    "Bin the final positions into bins of width 10 $\\mu m$ within the range of -100 to 100 and plot the position distribution function f(x) at time 1 s. You might find `plt.hist()` useful here. On top of this, plot the expected Gaussian distribution function."
   ]
  },
  {
   "cell_type": "code",
   "execution_count": null,
   "metadata": {},
   "outputs": [],
   "source": []
  }
 ],
 "metadata": {
  "kernelspec": {
   "display_name": "Python 3",
   "language": "python",
   "name": "python3"
  },
  "language_info": {
   "codemirror_mode": {
    "name": "ipython",
    "version": 3
   },
   "file_extension": ".py",
   "mimetype": "text/x-python",
   "name": "python",
   "nbconvert_exporter": "python",
   "pygments_lexer": "ipython3",
   "version": "3.8.6"
  }
 },
 "nbformat": 4,
 "nbformat_minor": 4
}
