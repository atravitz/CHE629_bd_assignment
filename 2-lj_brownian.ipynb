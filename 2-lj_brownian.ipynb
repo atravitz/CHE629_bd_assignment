{
 "cells": [
  {
   "cell_type": "code",
   "execution_count": 1,
   "metadata": {},
   "outputs": [],
   "source": [
    "import matplotlib.pyplot as plt\n",
    "import numpy as np\n",
    "from scipy.stats import sem"
   ]
  },
  {
   "cell_type": "markdown",
   "metadata": {},
   "source": [
    "## Part 2: a Brownian particle in a Lennard Jones potential well\n",
    "\n",
    "Now we will carry out the simulations of the same random particle but for the following Lennard Jones potential well:\n",
    "\n",
    "$$ U_{LJ}(x) = 4\\varepsilon \\Big[\\Big(\\frac{\\sigma}{x}\\Big)^{12} -\\Big(\\frac{\\sigma}{x}\\Big)^{6}\\Big]$$\n",
    "\n"
   ]
  },
  {
   "cell_type": "code",
   "execution_count": 2,
   "metadata": {},
   "outputs": [
    {
     "data": {
      "image/png": "[encoded data removed]",
      "text/plain": [
       "<Figure size 600x400 with 1 Axes>"
      ]
     },
     "metadata": {
      "needs_background": "light"
     },
     "output_type": "display_data"
    }
   ],
   "source": [
    "def lj(r, epsilon, sigma):\n",
    "    return 4 * epsilon * ((sigma/r)**12 - (sigma/r)**6)\n",
    "\n",
    "x_range = np.linspace(0.1, 3, 500)\n",
    "\n",
    "fig, ax = plt.subplots(dpi=100)\n",
    "ax.plot(x_range, lj(x_range, 6, 1), label='U(x)/kT')\n",
    "plt.legend()\n",
    "plt.xlabel(r\"$x (\\mu m)$\")\n",
    "plt.ylim(-8, 5)\n",
    "plt.show()"
   ]
  },
  {
   "cell_type": "markdown",
   "metadata": {},
   "source": [
    "#### a) Plot the potential and force equations\n",
    "Derive the force $F_{LJ}(x) = - \\frac{\\partial}{\\partial x} U_{LJ}(x)$, define it as a function (similar to above) and plot both $U_{LJ}(x)$ and $F_{LJ}(x)$ for $0.1 \\mu m < x < 3.0 \\mu m$ and $\\varepsilon=6 kT$. It might be helpful to set your y-axis limits to (-20, 20) to better see the shape of the potential."
   ]
  },
  {
   "cell_type": "code",
   "execution_count": null,
   "metadata": {},
   "outputs": [],
   "source": []
  },
  {
   "cell_type": "markdown",
   "metadata": {},
   "source": [
    "#### b)  Calculate escape times for the brownian particles\n",
    "\n",
    "Start particles at $x=2^{1/6} \\mu m$ (the minimum of the well). When a particle reaches $x=2.5 \\mu m$, destroy the particle and record the \"first-passage time\", the time required for it to go from $x = 2^{1/6} \\mu m$ to $2.5 \\mu m$. \n",
    "\n",
    "To incorporate the effect of the potential $U(x)$, divide its corresponding force, $F(x)$ by the particle drag coefficient,  which gives the velocity produced by this force. From this and the time step, add the displacement caused by this force to the particle displacement caused by Brownian motion each time step.  You can use your free Brownian simulation as a starting point.\n",
    "\n",
    "Use a timestep of $\\Delta t = 0.001$  and a uniform random number distribution between -1 and 1.\n",
    "\n",
    "\n",
    "For a few $\\varepsilon$ values in the range 2 - 6 kT, run the simulation 100 times and average the escape times to obtain the mean first passage time $\\tau_{esc}$. \n",
    "\n",
    "Make a plot of $\\tau_{esc}$ vs. $\\varepsilon$ twice, once with error bars representing the standard deviation from these 100 runs, and once with the the standard error of the mean first passage time. You might find `numpy.std()` and `scipy.stats.sem()` useful here.  Which metric is larger and why, and which is most useful for indicating if 100 simulations is sufficient to determine the mean first passage time?\n"
   ]
  },
  {
   "cell_type": "code",
   "execution_count": null,
   "metadata": {},
   "outputs": [],
   "source": []
  },
  {
   "cell_type": "markdown",
   "metadata": {},
   "source": [
    "#### c) \n",
    "Compare the mean escape times to the Larson-Lightfoot equation for escape from a LJ potential in the overdamped limit, as shown in lecture:\n",
    "$$ \\tau_{esc} = \\tau_0 \\Big(\\frac{\\pi k_BT}{\\varepsilon}\\Big)^{1/2} \\frac{\\frac{x_{cut}}{a}-\\big(\\frac{4\\varepsilon}{k_BT}\\big)^{1/n}\\Gamma(1-1/n)} {n 2^{-1/n}} e^{\\varepsilon/k_BT}$$\n",
    "\n",
    "where $\\Gamma(1-1/n) \\approx 1.13$ and $n=6$ from the exponent in the 12-6 Lennard Jones potential we are using, and $a$ is the distance unit, which is $1.0 \\mu m$. Qualitatively, how well does this theory fit your data?"
   ]
  },
  {
   "cell_type": "code",
   "execution_count": null,
   "metadata": {},
   "outputs": [],
   "source": []
  }
 ],
 "metadata": {
  "kernelspec": {
   "display_name": "Python 3",
   "language": "python",
   "name": "python3"
  },
  "language_info": {
   "codemirror_mode": {
    "name": "ipython",
    "version": 3
   },
   "file_extension": ".py",
   "mimetype": "text/x-python",
   "name": "python",
   "nbconvert_exporter": "python",
   "pygments_lexer": "ipython3",
   "version": "3.8.6"
  }
 },
 "nbformat": 4,
 "nbformat_minor": 4
}
